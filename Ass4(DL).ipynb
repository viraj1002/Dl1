{
 "cells": [
  {
   "cell_type": "markdown",
   "metadata": {
    "id": "djQINsl_Ab3V"
   },
   "source": [
    "# Use Autoencoder to implement anomaly detection. Build the model by using:\n",
    "a. Import required libraries<br>\n",
    "b. Upload / access the dataset<br>\n",
    "c. Encoder converts it into latent representation<br>\n",
    "d. Decoder networks convert it back to the original input<br>\n",
    "e. Compile the models with Optimizer, Loss, and Evaluation Metrics<br>\n"
   ]
  },
  {
   "cell_type": "code",
   "execution_count": 1,
   "metadata": {
    "executionInfo": {
     "elapsed": 10,
     "status": "ok",
     "timestamp": 1698430145668,
     "user": {
      "displayName": "Ranjeet Kumbhar",
      "userId": "11440510226724121904"
     },
     "user_tz": -330
    },
    "id": "HnMj8dfZDIWx"
   },
   "outputs": [],
   "source": [
    "# Importing libraries\n",
    "import numpy as np\n",
    "import pandas as pd\n",
    "import tensorflow as tf\n",
    "import matplotlib.pyplot as plt\n",
    "from sklearn.metrics import accuracy_score\n",
    "from sklearn.preprocessing import MinMaxScaler\n",
    "from tensorflow.keras import Model, Sequential\n",
    "from tensorflow.keras.layers import Dense, Dropout\n",
    "from sklearn.model_selection import train_test_split\n",
    "\n",
    "# Define the path to the dataset. You can change this to your local file path if needed.\n",
    "path = 'http://storage.googleapis.com/download.tensorflow.org/data/ecg.csv'\n",
    "\n",
    "# Read the ECG dataset into a Pandas DataFrame\n",
    "data = pd.read_csv(path, header=None)\n"
   ]
  },
  {
   "cell_type": "code",
   "execution_count": 2,
   "metadata": {
    "colab": {
     "base_uri": "https://localhost:8080/",
     "height": 255
    },
    "executionInfo": {
     "elapsed": 560,
     "status": "ok",
     "timestamp": 1698430151017,
     "user": {
      "displayName": "Ranjeet Kumbhar",
      "userId": "11440510226724121904"
     },
     "user_tz": -330
    },
    "id": "2LAzd_pWUehy",
    "outputId": "f432716b-1434-440d-8343-d9fa08210aa8"
   },
   "outputs": [
    {
     "data": {
      "text/html": [
       "<div>\n",
       "<style scoped>\n",
       "    .dataframe tbody tr th:only-of-type {\n",
       "        vertical-align: middle;\n",
       "    }\n",
       "\n",
       "    .dataframe tbody tr th {\n",
       "        vertical-align: top;\n",
       "    }\n",
       "\n",
       "    .dataframe thead th {\n",
       "        text-align: right;\n",
       "    }\n",
       "</style>\n",
       "<table border=\"1\" class=\"dataframe\">\n",
       "  <thead>\n",
       "    <tr style=\"text-align: right;\">\n",
       "      <th></th>\n",
       "      <th>0</th>\n",
       "      <th>1</th>\n",
       "      <th>2</th>\n",
       "      <th>3</th>\n",
       "      <th>4</th>\n",
       "      <th>5</th>\n",
       "      <th>6</th>\n",
       "      <th>7</th>\n",
       "      <th>8</th>\n",
       "      <th>9</th>\n",
       "      <th>...</th>\n",
       "      <th>131</th>\n",
       "      <th>132</th>\n",
       "      <th>133</th>\n",
       "      <th>134</th>\n",
       "      <th>135</th>\n",
       "      <th>136</th>\n",
       "      <th>137</th>\n",
       "      <th>138</th>\n",
       "      <th>139</th>\n",
       "      <th>140</th>\n",
       "    </tr>\n",
       "  </thead>\n",
       "  <tbody>\n",
       "    <tr>\n",
       "      <th>0</th>\n",
       "      <td>-0.112522</td>\n",
       "      <td>-2.827204</td>\n",
       "      <td>-3.773897</td>\n",
       "      <td>-4.349751</td>\n",
       "      <td>-4.376041</td>\n",
       "      <td>-3.474986</td>\n",
       "      <td>-2.181408</td>\n",
       "      <td>-1.818286</td>\n",
       "      <td>-1.250522</td>\n",
       "      <td>-0.477492</td>\n",
       "      <td>...</td>\n",
       "      <td>0.792168</td>\n",
       "      <td>0.933541</td>\n",
       "      <td>0.796958</td>\n",
       "      <td>0.578621</td>\n",
       "      <td>0.257740</td>\n",
       "      <td>0.228077</td>\n",
       "      <td>0.123431</td>\n",
       "      <td>0.925286</td>\n",
       "      <td>0.193137</td>\n",
       "      <td>1.0</td>\n",
       "    </tr>\n",
       "    <tr>\n",
       "      <th>1</th>\n",
       "      <td>-1.100878</td>\n",
       "      <td>-3.996840</td>\n",
       "      <td>-4.285843</td>\n",
       "      <td>-4.506579</td>\n",
       "      <td>-4.022377</td>\n",
       "      <td>-3.234368</td>\n",
       "      <td>-1.566126</td>\n",
       "      <td>-0.992258</td>\n",
       "      <td>-0.754680</td>\n",
       "      <td>0.042321</td>\n",
       "      <td>...</td>\n",
       "      <td>0.538356</td>\n",
       "      <td>0.656881</td>\n",
       "      <td>0.787490</td>\n",
       "      <td>0.724046</td>\n",
       "      <td>0.555784</td>\n",
       "      <td>0.476333</td>\n",
       "      <td>0.773820</td>\n",
       "      <td>1.119621</td>\n",
       "      <td>-1.436250</td>\n",
       "      <td>1.0</td>\n",
       "    </tr>\n",
       "    <tr>\n",
       "      <th>2</th>\n",
       "      <td>-0.567088</td>\n",
       "      <td>-2.593450</td>\n",
       "      <td>-3.874230</td>\n",
       "      <td>-4.584095</td>\n",
       "      <td>-4.187449</td>\n",
       "      <td>-3.151462</td>\n",
       "      <td>-1.742940</td>\n",
       "      <td>-1.490659</td>\n",
       "      <td>-1.183580</td>\n",
       "      <td>-0.394229</td>\n",
       "      <td>...</td>\n",
       "      <td>0.886073</td>\n",
       "      <td>0.531452</td>\n",
       "      <td>0.311377</td>\n",
       "      <td>-0.021919</td>\n",
       "      <td>-0.713683</td>\n",
       "      <td>-0.532197</td>\n",
       "      <td>0.321097</td>\n",
       "      <td>0.904227</td>\n",
       "      <td>-0.421797</td>\n",
       "      <td>1.0</td>\n",
       "    </tr>\n",
       "    <tr>\n",
       "      <th>3</th>\n",
       "      <td>0.490473</td>\n",
       "      <td>-1.914407</td>\n",
       "      <td>-3.616364</td>\n",
       "      <td>-4.318823</td>\n",
       "      <td>-4.268016</td>\n",
       "      <td>-3.881110</td>\n",
       "      <td>-2.993280</td>\n",
       "      <td>-1.671131</td>\n",
       "      <td>-1.333884</td>\n",
       "      <td>-0.965629</td>\n",
       "      <td>...</td>\n",
       "      <td>0.350816</td>\n",
       "      <td>0.499111</td>\n",
       "      <td>0.600345</td>\n",
       "      <td>0.842069</td>\n",
       "      <td>0.952074</td>\n",
       "      <td>0.990133</td>\n",
       "      <td>1.086798</td>\n",
       "      <td>1.403011</td>\n",
       "      <td>-0.383564</td>\n",
       "      <td>1.0</td>\n",
       "    </tr>\n",
       "    <tr>\n",
       "      <th>4</th>\n",
       "      <td>0.800232</td>\n",
       "      <td>-0.874252</td>\n",
       "      <td>-2.384761</td>\n",
       "      <td>-3.973292</td>\n",
       "      <td>-4.338224</td>\n",
       "      <td>-3.802422</td>\n",
       "      <td>-2.534510</td>\n",
       "      <td>-1.783423</td>\n",
       "      <td>-1.594450</td>\n",
       "      <td>-0.753199</td>\n",
       "      <td>...</td>\n",
       "      <td>1.148884</td>\n",
       "      <td>0.958434</td>\n",
       "      <td>1.059025</td>\n",
       "      <td>1.371682</td>\n",
       "      <td>1.277392</td>\n",
       "      <td>0.960304</td>\n",
       "      <td>0.971020</td>\n",
       "      <td>1.614392</td>\n",
       "      <td>1.421456</td>\n",
       "      <td>1.0</td>\n",
       "    </tr>\n",
       "  </tbody>\n",
       "</table>\n",
       "<p>5 rows × 141 columns</p>\n",
       "</div>"
      ],
      "text/plain": [
       "        0         1         2         3         4         5         6    \\\n",
       "0 -0.112522 -2.827204 -3.773897 -4.349751 -4.376041 -3.474986 -2.181408   \n",
       "1 -1.100878 -3.996840 -4.285843 -4.506579 -4.022377 -3.234368 -1.566126   \n",
       "2 -0.567088 -2.593450 -3.874230 -4.584095 -4.187449 -3.151462 -1.742940   \n",
       "3  0.490473 -1.914407 -3.616364 -4.318823 -4.268016 -3.881110 -2.993280   \n",
       "4  0.800232 -0.874252 -2.384761 -3.973292 -4.338224 -3.802422 -2.534510   \n",
       "\n",
       "        7         8         9    ...       131       132       133       134  \\\n",
       "0 -1.818286 -1.250522 -0.477492  ...  0.792168  0.933541  0.796958  0.578621   \n",
       "1 -0.992258 -0.754680  0.042321  ...  0.538356  0.656881  0.787490  0.724046   \n",
       "2 -1.490659 -1.183580 -0.394229  ...  0.886073  0.531452  0.311377 -0.021919   \n",
       "3 -1.671131 -1.333884 -0.965629  ...  0.350816  0.499111  0.600345  0.842069   \n",
       "4 -1.783423 -1.594450 -0.753199  ...  1.148884  0.958434  1.059025  1.371682   \n",
       "\n",
       "        135       136       137       138       139  140  \n",
       "0  0.257740  0.228077  0.123431  0.925286  0.193137  1.0  \n",
       "1  0.555784  0.476333  0.773820  1.119621 -1.436250  1.0  \n",
       "2 -0.713683 -0.532197  0.321097  0.904227 -0.421797  1.0  \n",
       "3  0.952074  0.990133  1.086798  1.403011 -0.383564  1.0  \n",
       "4  1.277392  0.960304  0.971020  1.614392  1.421456  1.0  \n",
       "\n",
       "[5 rows x 141 columns]"
      ]
     },
     "execution_count": 2,
     "metadata": {},
     "output_type": "execute_result"
    }
   ],
   "source": [
    "data.head()"
   ]
  },
  {
   "cell_type": "code",
   "execution_count": 3,
   "metadata": {
    "colab": {
     "base_uri": "https://localhost:8080/"
    },
    "executionInfo": {
     "elapsed": 565,
     "status": "ok",
     "timestamp": 1698430206852,
     "user": {
      "displayName": "Ranjeet Kumbhar",
      "userId": "11440510226724121904"
     },
     "user_tz": -330
    },
    "id": "Z7txZa5WBPnc",
    "outputId": "cd3086a0-9ef1-48ed-90b6-fc3757e46fae"
   },
   "outputs": [
    {
     "name": "stdout",
     "output_type": "stream",
     "text": [
      "<class 'pandas.core.frame.DataFrame'>\n",
      "RangeIndex: 4998 entries, 0 to 4997\n",
      "Columns: 141 entries, 0 to 140\n",
      "dtypes: float64(141)\n",
      "memory usage: 5.4 MB\n"
     ]
    }
   ],
   "source": [
    "# Get information about the dataset, such as column data types and non-null counts\n",
    "data.info()\n"
   ]
  },
  {
   "cell_type": "code",
   "execution_count": 4,
   "metadata": {
    "executionInfo": {
     "elapsed": 5,
     "status": "ok",
     "timestamp": 1698430251277,
     "user": {
      "displayName": "Ranjeet Kumbhar",
      "userId": "11440510226724121904"
     },
     "user_tz": -330
    },
    "id": "tytSKg7SDg6V"
   },
   "outputs": [],
   "source": [
    "# Splitting the dataset into features and target\n",
    "features = data.drop(140, axis=1)  # Features are all columns except the last (column 140)\n",
    "target = data[140]  # Target is the last column (column 140)\n",
    "\n",
    "# Split the data into training and testing sets (80% training, 20% testing)\n",
    "x_train, x_test, y_train, y_test = train_test_split(\n",
    "    features, target, test_size=0.2\n",
    ")\n",
    "\n",
    "# Get the indices of the training data points labeled as \"1\" (anomalies)\n",
    "train_index = y_train[y_train == 1].index\n",
    "\n",
    "# Select the training data points that are anomalies\n",
    "train_data = x_train.loc[train_index]"
   ]
  },
  {
   "cell_type": "code",
   "execution_count": 5,
   "metadata": {
    "executionInfo": {
     "elapsed": 4,
     "status": "ok",
     "timestamp": 1698430262865,
     "user": {
      "displayName": "Ranjeet Kumbhar",
      "userId": "11440510226724121904"
     },
     "user_tz": -330
    },
    "id": "rCfSvzQoBZoy"
   },
   "outputs": [],
   "source": [
    "# Initialize the Min-Max Scaler to scale the data between 0 and 1\n",
    "min_max_scaler = MinMaxScaler(feature_range=(0, 1))\n",
    "\n",
    "# Scale the training data\n",
    "x_train_scaled = min_max_scaler.fit_transform(train_data.copy())\n",
    "\n",
    "# Scale the testing data using the same scaler\n",
    "x_test_scaled = min_max_scaler.transform(x_test.copy())\n"
   ]
  },
  {
   "cell_type": "code",
   "execution_count": 6,
   "metadata": {
    "executionInfo": {
     "elapsed": 5,
     "status": "ok",
     "timestamp": 1698430433642,
     "user": {
      "displayName": "Ranjeet Kumbhar",
      "userId": "11440510226724121904"
     },
     "user_tz": -330
    },
    "id": "oIgBjiJHDpwl"
   },
   "outputs": [],
   "source": [
    "# Creating an Autoencoder model by extending the Model class from Keras\n",
    "class AutoEncoder(Model):\n",
    "    def __init__(self, output_units, ldim=8):\n",
    "        super().__init__()\n",
    "        # Define the encoder part of the Autoencoder\n",
    "        self.encoder = Sequential([\n",
    "            Dense(64, activation='relu'),\n",
    "            Dropout(0.1),\n",
    "            Dense(32, activation='relu'),\n",
    "            Dropout(0.1),\n",
    "            Dense(16, activation='relu'),\n",
    "            Dropout(0.1),\n",
    "            Dense(ldim, activation='relu')\n",
    "        ])\n",
    "        # Define the decoder part of the Autoencoder\n",
    "        self.decoder = Sequential([\n",
    "            Dense(16, activation='relu'),\n",
    "            Dropout(0.1),\n",
    "            Dense(32, activation='relu'),\n",
    "            Dropout(0.1),\n",
    "            Dense(64, activation='relu'),\n",
    "            Dropout(0.1),\n",
    "            Dense(output_units, activation='sigmoid')\n",
    "        ])\n",
    "\n",
    "    def call(self, inputs):\n",
    "        # Forward pass through the Autoencoder\n",
    "        encoded = self.encoder(inputs)\n",
    "        decoded = self.decoder(encoded)\n",
    "        return decoded\n"
   ]
  },
  {
   "cell_type": "code",
   "execution_count": 7,
   "metadata": {
    "colab": {
     "base_uri": "https://localhost:8080/"
    },
    "executionInfo": {
     "elapsed": 7143,
     "status": "ok",
     "timestamp": 1698430441380,
     "user": {
      "displayName": "Ranjeet Kumbhar",
      "userId": "11440510226724121904"
     },
     "user_tz": -330
    },
    "id": "aWbkLX8yB4EE",
    "outputId": "f1901c72-00b9-4cd4-90f5-51cdfee9de4a"
   },
   "outputs": [
    {
     "name": "stdout",
     "output_type": "stream",
     "text": [
      "Epoch 1/20\n",
      "5/5 [==============================] - 11s 96ms/step - loss: 0.0114 - mse: 0.0254 - val_loss: 0.0133 - val_mse: 0.0309\n",
      "Epoch 2/20\n",
      "5/5 [==============================] - 0s 13ms/step - loss: 0.0111 - mse: 0.0248 - val_loss: 0.0132 - val_mse: 0.0306\n",
      "Epoch 3/20\n",
      "5/5 [==============================] - 0s 12ms/step - loss: 0.0107 - mse: 0.0238 - val_loss: 0.0128 - val_mse: 0.0298\n",
      "Epoch 4/20\n",
      "5/5 [==============================] - 0s 13ms/step - loss: 0.0097 - mse: 0.0216 - val_loss: 0.0125 - val_mse: 0.0289\n",
      "Epoch 5/20\n",
      "5/5 [==============================] - 0s 12ms/step - loss: 0.0085 - mse: 0.0189 - val_loss: 0.0125 - val_mse: 0.0288\n",
      "Epoch 6/20\n",
      "5/5 [==============================] - 0s 12ms/step - loss: 0.0075 - mse: 0.0167 - val_loss: 0.0118 - val_mse: 0.0272\n",
      "Epoch 7/20\n",
      "5/5 [==============================] - 0s 13ms/step - loss: 0.0066 - mse: 0.0147 - val_loss: 0.0114 - val_mse: 0.0265\n",
      "Epoch 8/20\n",
      "5/5 [==============================] - 0s 14ms/step - loss: 0.0060 - mse: 0.0134 - val_loss: 0.0112 - val_mse: 0.0260\n",
      "Epoch 9/20\n",
      "5/5 [==============================] - 0s 14ms/step - loss: 0.0056 - mse: 0.0125 - val_loss: 0.0107 - val_mse: 0.0250\n",
      "Epoch 10/20\n",
      "5/5 [==============================] - 0s 14ms/step - loss: 0.0053 - mse: 0.0118 - val_loss: 0.0105 - val_mse: 0.0244\n",
      "Epoch 11/20\n",
      "5/5 [==============================] - 0s 11ms/step - loss: 0.0051 - mse: 0.0113 - val_loss: 0.0100 - val_mse: 0.0233\n",
      "Epoch 12/20\n",
      "5/5 [==============================] - 0s 12ms/step - loss: 0.0049 - mse: 0.0110 - val_loss: 0.0097 - val_mse: 0.0227\n",
      "Epoch 13/20\n",
      "5/5 [==============================] - 0s 11ms/step - loss: 0.0048 - mse: 0.0108 - val_loss: 0.0096 - val_mse: 0.0224\n",
      "Epoch 14/20\n",
      "5/5 [==============================] - 0s 12ms/step - loss: 0.0047 - mse: 0.0106 - val_loss: 0.0095 - val_mse: 0.0224\n",
      "Epoch 15/20\n",
      "5/5 [==============================] - 0s 12ms/step - loss: 0.0047 - mse: 0.0105 - val_loss: 0.0095 - val_mse: 0.0222\n",
      "Epoch 16/20\n",
      "5/5 [==============================] - 0s 11ms/step - loss: 0.0046 - mse: 0.0104 - val_loss: 0.0094 - val_mse: 0.0222\n",
      "Epoch 17/20\n",
      "5/5 [==============================] - 0s 13ms/step - loss: 0.0046 - mse: 0.0103 - val_loss: 0.0094 - val_mse: 0.0222\n",
      "Epoch 18/20\n",
      "5/5 [==============================] - 0s 11ms/step - loss: 0.0045 - mse: 0.0102 - val_loss: 0.0094 - val_mse: 0.0220\n",
      "Epoch 19/20\n",
      "5/5 [==============================] - 0s 12ms/step - loss: 0.0045 - mse: 0.0101 - val_loss: 0.0093 - val_mse: 0.0219\n",
      "Epoch 20/20\n",
      "5/5 [==============================] - 0s 12ms/step - loss: 0.0045 - mse: 0.0100 - val_loss: 0.0093 - val_mse: 0.0219\n"
     ]
    }
   ],
   "source": [
    "# Create an instance of the AutoEncoder model with the appropriate output units\n",
    "model = AutoEncoder(output_units=x_train_scaled.shape[1])\n",
    "\n",
    "# Compile the model with Mean Squared Logarithmic Error (MSLE) loss and Mean Squared Error (MSE) metric\n",
    "model.compile(loss='msle', metrics=['mse'], optimizer='adam')\n",
    "\n",
    "# Train the model using the scaled training data\n",
    "history = model.fit(\n",
    "    x_train_scaled,  # Input data for training\n",
    "    x_train_scaled,  # Target data for training (autoencoder reconstructs the input)\n",
    "    epochs=20,        # Number of training epochs\n",
    "    batch_size=512,   # Batch size\n",
    "    validation_data=(x_test_scaled, x_test_scaled),  # Validation data\n",
    "    shuffle=True     # Shuffle the data during training\n",
    ")\n"
   ]
  },
  {
   "cell_type": "code",
   "execution_count": 8,
   "metadata": {
    "colab": {
     "base_uri": "https://localhost:8080/",
     "height": 447
    },
    "executionInfo": {
     "elapsed": 1353,
     "status": "ok",
     "timestamp": 1698430451139,
     "user": {
      "displayName": "Ranjeet Kumbhar",
      "userId": "11440510226724121904"
     },
     "user_tz": -330
    },
    "id": "C_dz30HTV-rQ",
    "outputId": "16a96c4a-45a9-4b16-94e4-c64fe3f62e61"
   },
   "outputs": [
    {
     "data": {
      "text/plain": [
       "<matplotlib.legend.Legend at 0x1705de6d950>"
      ]
     },
     "execution_count": 8,
     "metadata": {},
     "output_type": "execute_result"
    },
    {
     "data": {
      "image/png": "[encoded data removed]",
      "text/plain": [
       "<Figure size 640x480 with 1 Axes>"
      ]
     },
     "metadata": {},
     "output_type": "display_data"
    }
   ],
   "source": [
    "plt.plot(history.history[\"loss\"], label=\"Training Loss\")\n",
    "plt.plot(history.history[\"val_loss\"], label=\"Validation Loss\")\n",
    "plt.legend()"
   ]
  },
  {
   "cell_type": "code",
   "execution_count": 9,
   "metadata": {
    "colab": {
     "base_uri": "https://localhost:8080/"
    },
    "executionInfo": {
     "elapsed": 613,
     "status": "ok",
     "timestamp": 1698430479923,
     "user": {
      "displayName": "Ranjeet Kumbhar",
      "userId": "11440510226724121904"
     },
     "user_tz": -330
    },
    "id": "hwaxD_pZETdl",
    "outputId": "c4fd4d38-706c-448b-c553-92f6418bd096"
   },
   "outputs": [
    {
     "name": "stdout",
     "output_type": "stream",
     "text": [
      "73/73 [==============================] - 0s 1ms/step\n",
      "Threshold: 0.009651090617132171\n"
     ]
    }
   ],
   "source": [
    "# Function to find the threshold for anomalies based on the training data\n",
    "def find_threshold(model, x_train_scaled):\n",
    "    # Reconstruct the data using the model\n",
    "    recons = model.predict(x_train_scaled)\n",
    "\n",
    "    # Calculate the mean squared log error between reconstructed data and the original data\n",
    "    recons_error = tf.keras.metrics.msle(recons, x_train_scaled)\n",
    "\n",
    "    # Set the threshold as the mean error plus one standard deviation\n",
    "    threshold = np.mean(recons_error.numpy()) + np.std(recons_error.numpy())\n",
    "\n",
    "    return threshold\n",
    "\n",
    "# Function to make predictions for anomalies based on the threshold\n",
    "def get_predictions(model, x_test_scaled, threshold):\n",
    "    # Reconstruct the data using the model\n",
    "    predictions = model.predict(x_test_scaled)\n",
    "\n",
    "    # Calculate the mean squared log error between reconstructed data and the original data\n",
    "    errors = tf.keras.losses.msle(predictions, x_test_scaled)\n",
    "\n",
    "    # Create a mask for anomalies based on the threshold\n",
    "    anomaly_mask = pd.Series(errors) > threshold\n",
    "\n",
    "    # Map True (anomalies) to 0 and False (normal data) to 1\n",
    "    preds = anomaly_mask.map(lambda x: 0.0 if x == True else 1.0)\n",
    "\n",
    "    return preds\n",
    "\n",
    "# Find the threshold for anomalies\n",
    "threshold = find_threshold(model, x_train_scaled)\n",
    "print(f\"Threshold: {threshold}\")"
   ]
  },
  {
   "cell_type": "code",
   "execution_count": 10,
   "metadata": {
    "colab": {
     "base_uri": "https://localhost:8080/"
    },
    "executionInfo": {
     "elapsed": 966,
     "status": "ok",
     "timestamp": 1698430558444,
     "user": {
      "displayName": "Ranjeet Kumbhar",
      "userId": "11440510226724121904"
     },
     "user_tz": -330
    },
    "id": "ph9bwzz0CLtl",
    "outputId": "275820d6-e74f-4eee-a8a5-18803e64fd22"
   },
   "outputs": [
    {
     "name": "stdout",
     "output_type": "stream",
     "text": [
      "32/32 [==============================] - 0s 1ms/step\n",
      "Accuracy Score: 0.94\n"
     ]
    }
   ],
   "source": [
    "# Get predictions for anomalies based on the model and threshold\n",
    "predictions = get_predictions(model, x_test_scaled, threshold)\n",
    "\n",
    "# Calculate the accuracy score by comparing the predicted anomalies to the true labels\n",
    "accuracy = accuracy_score(predictions, y_test)\n",
    "\n",
    "# Print the accuracy score\n",
    "print(f\"Accuracy Score: {accuracy}\")\n"
   ]
  },
  {
   "cell_type": "code",
   "execution_count": null,
   "metadata": {},
   "outputs": [],
   "source": []
  },
  {
   "cell_type": "code",
   "execution_count": null,
   "metadata": {},
   "outputs": [],
   "source": []
  }
 ],
 "metadata": {
  "colab": {
   "provenance": []
  },
  "kernelspec": {
   "display_name": "Python 3 (ipykernel)",
   "language": "python",
   "name": "python3"
  },
  "language_info": {
   "codemirror_mode": {
    "name": "ipython",
    "version": 3
   },
   "file_extension": ".py",
   "mimetype": "text/x-python",
   "name": "python",
   "nbconvert_exporter": "python",
   "pygments_lexer": "ipython3",
   "version": "3.11.5"
  }
 },
 "nbformat": 4,
 "nbformat_minor": 1
}
