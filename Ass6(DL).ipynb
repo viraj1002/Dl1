{
 "cells": [
  {
   "cell_type": "code",
   "execution_count": 2,
   "id": "d1fba00f",
   "metadata": {},
   "outputs": [],
   "source": [
    "\n",
    "#Assignment 6: Implementation of object detection using transfer learning of CNN architectures\n",
    "\n",
    "from tensorflow.keras.preprocessing.image import ImageDataGenerator"
   ]
  },
  {
   "cell_type": "code",
   "execution_count": 3,
   "id": "42d0e7e3",
   "metadata": {},
   "outputs": [],
   "source": [
    "train_dir='Desktop/mnist/mnistpng/train/'\n",
    "test_dir ='mnist/mnistpng/test/'\n"
   ]
  },
  {
   "cell_type": "code",
   "execution_count": 4,
   "id": "b5bd7f9d",
   "metadata": {
    "scrolled": true
   },
   "outputs": [
    {
     "name": "stdout",
     "output_type": "stream",
     "text": [
      "Found 60000 images belonging to 10 classes.\n"
     ]
    }
   ],
   "source": [
    "img_gen=ImageDataGenerator(rescale=1.0/255)\n",
    "data_gen=img_gen.flow_from_directory(\n",
    "    train_dir,\n",
    "    target_size=(32,32),\n",
    "    batch_size=5000,\n",
    "    shuffle=True,\n",
    "    class_mode='categorical'\n",
    ")"
   ]
  },
  {
   "cell_type": "code",
   "execution_count": 5,
   "id": "f18d379d",
   "metadata": {},
   "outputs": [],
   "source": [
    "x_train,y_train=data_gen[0]\n",
    "x_test,y_test=data_gen[2]"
   ]
  },
  {
   "cell_type": "code",
   "execution_count": 6,
   "id": "d9f13c20",
   "metadata": {},
   "outputs": [],
   "source": [
    "\n",
    "from tensorflow.keras.applications import VGG16\n",
    "path = 'Desktop/mnist/vgg16_weights_tf_dim_ordering_tf_kernels_notop.h5'\n",
    "vgg_model = VGG16 (weights=path, include_top=False, input_shape=(32,32,3))"
   ]
  },
  {
   "cell_type": "code",
   "execution_count": 7,
   "id": "5425b502",
   "metadata": {},
   "outputs": [],
   "source": [
    "for layer in vgg_model.layers:\n",
    "    layer.trainabler=False"
   ]
  },
  {
   "cell_type": "code",
   "execution_count": 8,
   "id": "94140d0a",
   "metadata": {},
   "outputs": [],
   "source": [
    "from tensorflow import keras\n",
    "from tensorflow.keras.layers import Dense, Flatten, Dropout"
   ]
  },
  {
   "cell_type": "code",
   "execution_count": 9,
   "id": "8dcd145b",
   "metadata": {},
   "outputs": [],
   "source": [
    "custom_classifier = keras.Sequential([\n",
    "\n",
    "    Flatten(),\n",
    "    Dense(100, activation= 'relu'),\n",
    "    Dropout (0.2),\n",
    "    Dense(100, activation= 'relu'),\n",
    "    Dropout (0.2),\n",
    "    Dense (10, activation='softmax')\n",
    "])\n",
    "model=keras.Sequential([\n",
    "    vgg_model,\n",
    "    custom_classifier\n",
    "])"
   ]
  },
  {
   "cell_type": "code",
   "execution_count": 10,
   "id": "16bb0897",
   "metadata": {},
   "outputs": [],
   "source": [
    "model.compile(optimizer='adam', loss = 'categorical_crossentropy', metrics=['accuracy'])"
   ]
  },
  {
   "cell_type": "code",
   "execution_count": 11,
   "id": "a9458982",
   "metadata": {},
   "outputs": [
    {
     "name": "stdout",
     "output_type": "stream",
     "text": [
      "50/50 [==============================] - 174s 3s/step - loss: 2.5083 - accuracy: 0.1298 - val_loss: 2.1432 - val_accuracy: 0.2140\n"
     ]
    },
    {
     "data": {
      "text/plain": [
       "<keras.src.callbacks.History at 0x219c7894350>"
      ]
     },
     "execution_count": 11,
     "metadata": {},
     "output_type": "execute_result"
    }
   ],
   "source": [
    "model.fit(x_train, y_train, batch_size=100, epochs=1, validation_data=(x_test,y_test))"
   ]
  },
  {
   "cell_type": "code",
   "execution_count": 12,
   "id": "d7c2ee06",
   "metadata": {},
   "outputs": [],
   "source": [
    "for layer in vgg_model.layers[:-4]:\n",
    "    layer.trainable=True"
   ]
  },
  {
   "cell_type": "code",
   "execution_count": 13,
   "id": "0f090721",
   "metadata": {},
   "outputs": [
    {
     "name": "stdout",
     "output_type": "stream",
     "text": [
      "50/50 [==============================] - 176s 3s/step - loss: 1.7777 - accuracy: 0.3348 - val_loss: 0.9486 - val_accuracy: 0.6850\n"
     ]
    },
    {
     "data": {
      "text/plain": [
       "<keras.src.callbacks.History at 0x219c791c310>"
      ]
     },
     "execution_count": 13,
     "metadata": {},
     "output_type": "execute_result"
    }
   ],
   "source": [
    "model.compile(optimizer='adam',loss='categorical_crossentropy',metrics=['accuracy'])\n",
    "model.fit(x_train, y_train, batch_size=100, epochs=1, validation_data=(x_test,y_test))"
   ]
  },
  {
   "cell_type": "code",
   "execution_count": 14,
   "id": "fa686284",
   "metadata": {},
   "outputs": [
    {
     "name": "stdout",
     "output_type": "stream",
     "text": [
      "157/157 [==============================] - 10s 59ms/step - loss: 0.9486 - accuracy: 0.6850\n",
      "0.9485936760902405   0.6850000023841858\n"
     ]
    }
   ],
   "source": [
    "loss,acc=model.evaluate(x_test,y_test)\n",
    "print(loss, \" \",acc)"
   ]
  },
  {
   "cell_type": "code",
   "execution_count": 15,
   "id": "e100f7fb",
   "metadata": {},
   "outputs": [
    {
     "name": "stdout",
     "output_type": "stream",
     "text": [
      "157/157 [==============================] - 10s 61ms/step\n"
     ]
    }
   ],
   "source": [
    "pred=model.predict(x_test)"
   ]
  },
  {
   "cell_type": "code",
   "execution_count": 16,
   "id": "f5b8bd0c",
   "metadata": {},
   "outputs": [],
   "source": [
    "labels=list(data_gen.class_indices.keys())"
   ]
  },
  {
   "cell_type": "code",
   "execution_count": 17,
   "id": "dd2caffe",
   "metadata": {},
   "outputs": [
    {
     "name": "stdout",
     "output_type": "stream",
     "text": [
      "4\n"
     ]
    },
    {
     "data": {
      "image/png": "[encoded data removed]",
      "text/plain": [
       "<Figure size 640x480 with 1 Axes>"
      ]
     },
     "metadata": {},
     "output_type": "display_data"
    }
   ],
   "source": [
    "import matplotlib.pyplot as plt\n",
    "import numpy as np\n",
    "plt.imshow(x_test[5])\n",
    "print(str(labels[np.argmax(y_test[5])]))"
   ]
  },
  {
   "cell_type": "code",
   "execution_count": 18,
   "id": "d87fc875",
   "metadata": {},
   "outputs": [
    {
     "data": {
      "text/plain": [
       "array([0., 0., 0., 0., 1., 0., 0., 0., 0., 0.], dtype=float32)"
      ]
     },
     "execution_count": 18,
     "metadata": {},
     "output_type": "execute_result"
    }
   ],
   "source": [
    "y_test[5]"
   ]
  },
  {
   "cell_type": "code",
   "execution_count": null,
   "id": "fdb129c4",
   "metadata": {},
   "outputs": [],
   "source": []
  }
 ],
 "metadata": {
  "kernelspec": {
   "display_name": "Python 3 (ipykernel)",
   "language": "python",
   "name": "python3"
  },
  "language_info": {
   "codemirror_mode": {
    "name": "ipython",
    "version": 3
   },
   "file_extension": ".py",
   "mimetype": "text/x-python",
   "name": "python",
   "nbconvert_exporter": "python",
   "pygments_lexer": "ipython3",
   "version": "3.11.5"
  }
 },
 "nbformat": 4,
 "nbformat_minor": 5
}
